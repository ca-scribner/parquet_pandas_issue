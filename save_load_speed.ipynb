{
 "cells": [
  {
   "cell_type": "markdown",
   "metadata": {},
   "source": [
    "# Summary\n",
    "\n",
    "Testing save/load speed of various formats"
   ]
  },
  {
   "cell_type": "code",
   "execution_count": 1,
   "metadata": {},
   "outputs": [],
   "source": [
    "%load_ext autoreload\n",
    "%autoreload 2\n",
    "\n",
    "%load_ext memory_profiler"
   ]
  },
  {
   "cell_type": "code",
   "execution_count": 2,
   "metadata": {},
   "outputs": [],
   "source": [
    "import numpy as np\n",
    "import pandas as pd\n",
    "import string\n",
    "import time\n",
    "import tempfile\n",
    "import os\n",
    "import random"
   ]
  },
  {
   "cell_type": "code",
   "execution_count": 3,
   "metadata": {},
   "outputs": [],
   "source": [
    "LETTER_POOL = string.ascii_letters + string.punctuation + ' '"
   ]
  },
  {
   "cell_type": "code",
   "execution_count": 4,
   "metadata": {},
   "outputs": [],
   "source": [
    "def create_data(n_rows, n_int_cols=0, n_float_cols=0, str_cols=None):\n",
    "    data = {}\n",
    "    for i in range(n_int_cols):\n",
    "        col_name = f\"int_{i}\"\n",
    "        this_data = np.random.randint(0, 65000, size=n_rows)\n",
    "        data[col_name] = this_data\n",
    "\n",
    "    for i in range(n_float_cols):\n",
    "        col_name = f\"float_{i}\"\n",
    "        this_data = np.random.rand(n_rows)\n",
    "        data[col_name] = this_data\n",
    "    \n",
    "    if str_cols is not None:\n",
    "        for i, width in enumerate(str_cols):\n",
    "            col_name = f\"str_{i}\"\n",
    "            this_data = [random_string(width) for i in range(n_rows)]\n",
    "            this_data = np.array(this_data)\n",
    "            data[col_name] = this_data\n",
    "            \n",
    "    return data\n",
    "\n",
    "def random_string(length, letter_pool=LETTER_POOL):\n",
    "    return ''.join(random.choices(letter_pool, k=length))"
   ]
  },
  {
   "cell_type": "code",
   "execution_count": 5,
   "metadata": {},
   "outputs": [],
   "source": [
    "n_rows = 100000\n",
    "n_int_cols = 5\n",
    "n_float_cols = 5\n",
    "str_cols = [300, 300, 300]\n",
    "df = pd.DataFrame(create_data(n_rows, n_int_cols, n_float_cols, str_cols))"
   ]
  },
  {
   "cell_type": "code",
   "execution_count": 6,
   "metadata": {},
   "outputs": [
    {
     "name": "stdout",
     "output_type": "stream",
     "text": [
      "Output file size = 473.25MB\n",
      "Save took 2.7s\n",
      "peak memory: 1174.00 MiB, increment: 971.75 MiB\n"
     ]
    }
   ],
   "source": [
    "%%memit\n",
    "t0 = time.perf_counter()\n",
    "n_dfs = 5\n",
    "test_df = pd.concat([df for i in range(n_dfs)])\n",
    "fname = f'df_{n_dfs}.parquet'\n",
    "test_df.to_parquet(fname)\n",
    "print(f\"Output file size = {os.path.getsize(fname) / 1000000:.2f}MB\")\n",
    "print(f\"Save took {time.perf_counter()-t0:.1f}s\")"
   ]
  },
  {
   "cell_type": "code",
   "execution_count": 7,
   "metadata": {},
   "outputs": [
    {
     "name": "stdout",
     "output_type": "stream",
     "text": [
      "Load took 0.7s\n",
      "peak memory: 1435.68 MiB, increment: 724.09 MiB\n"
     ]
    }
   ],
   "source": [
    "%%memit\n",
    "t0 = time.perf_counter()\n",
    "df_in = pd.read_parquet(fname)\n",
    "print(f\"Load took {time.perf_counter()-t0:.1f}s\")"
   ]
  },
  {
   "cell_type": "markdown",
   "metadata": {},
   "source": [
    "using pkl"
   ]
  },
  {
   "cell_type": "code",
   "execution_count": 8,
   "metadata": {},
   "outputs": [
    {
     "name": "stdout",
     "output_type": "stream",
     "text": [
      "Output file size = 141.82MB\n",
      "Save took 0.8s\n",
      "peak memory: 1550.98 MiB, increment: 115.28 MiB\n"
     ]
    }
   ],
   "source": [
    "%%memit\n",
    "t0 = time.perf_counter()\n",
    "n_dfs = 5\n",
    "test_df = pd.concat([df for i in range(n_dfs)])\n",
    "fname = f'df_{n_dfs}.pkl'\n",
    "test_df.to_pickle(fname)\n",
    "print(f\"Output file size = {os.path.getsize(fname) / 1000000:.2f}MB\")\n",
    "print(f\"Save took {time.perf_counter()-t0:.1f}s\")"
   ]
  },
  {
   "cell_type": "code",
   "execution_count": 9,
   "metadata": {},
   "outputs": [
    {
     "name": "stdout",
     "output_type": "stream",
     "text": [
      "Load took 0.3s\n",
      "peak memory: 623.50 MiB, increment: 131.64 MiB\n"
     ]
    }
   ],
   "source": [
    "%%memit\n",
    "t0 = time.perf_counter()\n",
    "df_in = pd.read_pickle(fname)\n",
    "print(f\"Load took {time.perf_counter()-t0:.1f}s\")"
   ]
  },
  {
   "cell_type": "markdown",
   "metadata": {},
   "source": [
    "Using pickle and zip"
   ]
  },
  {
   "cell_type": "code",
   "execution_count": 10,
   "metadata": {},
   "outputs": [
    {
     "name": "stdout",
     "output_type": "stream",
     "text": [
      "Output file size = 102.50MB\n",
      "Save took 7.3s\n",
      "peak memory: 697.57 MiB, increment: 233.75 MiB\n"
     ]
    }
   ],
   "source": [
    "%%memit\n",
    "t0 = time.perf_counter()\n",
    "n_dfs = 5\n",
    "test_df = pd.concat([df for i in range(n_dfs)])\n",
    "fname = f'df_{n_dfs}.zip'\n",
    "test_df.to_pickle(fname)\n",
    "print(f\"Output file size = {os.path.getsize(fname) / 1000000:.2f}MB\")\n",
    "print(f\"Save took {time.perf_counter()-t0:.1f}s\")"
   ]
  },
  {
   "cell_type": "code",
   "execution_count": 11,
   "metadata": {},
   "outputs": [
    {
     "name": "stdout",
     "output_type": "stream",
     "text": [
      "Load took 1.1s\n",
      "peak memory: 642.95 MiB, increment: 178.26 MiB\n"
     ]
    }
   ],
   "source": [
    "%%memit\n",
    "t0 = time.perf_counter()\n",
    "df_in = pd.read_pickle(fname)\n",
    "print(f\"Load took {time.perf_counter()-t0:.1f}s\")"
   ]
  },
  {
   "cell_type": "markdown",
   "metadata": {},
   "source": [
    "Using csv"
   ]
  },
  {
   "cell_type": "code",
   "execution_count": 12,
   "metadata": {},
   "outputs": [
    {
     "name": "stdout",
     "output_type": "stream",
     "text": [
      "Output file size = 525.48MB\n",
      "Save took 13.9s\n",
      "peak memory: 539.80 MiB, increment: 2.07 MiB\n"
     ]
    }
   ],
   "source": [
    "%%memit\n",
    "t0 = time.perf_counter()\n",
    "n_dfs = 5\n",
    "test_df = pd.concat([df for i in range(n_dfs)])\n",
    "fname = f'df_{n_dfs}.csv'\n",
    "test_df.to_csv(fname)\n",
    "print(f\"Output file size = {os.path.getsize(fname) / 1000000:.2f}MB\")\n",
    "print(f\"Save took {time.perf_counter()-t0:.1f}s\")"
   ]
  },
  {
   "cell_type": "code",
   "execution_count": 13,
   "metadata": {},
   "outputs": [
    {
     "name": "stdout",
     "output_type": "stream",
     "text": [
      "Load took 4.4s\n",
      "peak memory: 1110.12 MiB, increment: 572.07 MiB\n"
     ]
    }
   ],
   "source": [
    "%%memit\n",
    "t0 = time.perf_counter()\n",
    "df_in = pd.read_csv(fname)\n",
    "print(f\"Load took {time.perf_counter()-t0:.1f}s\")"
   ]
  },
  {
   "cell_type": "markdown",
   "metadata": {},
   "source": [
    "Using csv and zip"
   ]
  },
  {
   "cell_type": "code",
   "execution_count": 14,
   "metadata": {},
   "outputs": [
    {
     "name": "stdout",
     "output_type": "stream",
     "text": [
      "Output file size = 426.12MB\n",
      "Save took 33.1s\n",
      "peak memory: 2427.43 MiB, increment: 1410.05 MiB\n"
     ]
    }
   ],
   "source": [
    "%%memit\n",
    "t0 = time.perf_counter()\n",
    "n_dfs = 5\n",
    "test_df = pd.concat([df for i in range(n_dfs)])\n",
    "fname = f'df_{n_dfs}.zip'\n",
    "test_df.to_csv(fname)\n",
    "print(f\"Output file size = {os.path.getsize(fname) / 1000000:.2f}MB\")\n",
    "print(f\"Save took {time.perf_counter()-t0:.1f}s\")"
   ]
  },
  {
   "cell_type": "code",
   "execution_count": 15,
   "metadata": {},
   "outputs": [
    {
     "name": "stdout",
     "output_type": "stream",
     "text": [
      "Load took 7.3s\n",
      "peak memory: 1591.87 MiB, increment: 574.09 MiB\n"
     ]
    }
   ],
   "source": [
    "%%memit\n",
    "t0 = time.perf_counter()\n",
    "df_in = pd.read_csv(fname)\n",
    "print(f\"Load took {time.perf_counter()-t0:.1f}s\")"
   ]
  },
  {
   "cell_type": "markdown",
   "metadata": {},
   "source": [
    "Using csv and bz2"
   ]
  },
  {
   "cell_type": "code",
   "execution_count": 16,
   "metadata": {},
   "outputs": [
    {
     "name": "stdout",
     "output_type": "stream",
     "text": [
      "Output file size = 396.45MB\n",
      "Save took 60.8s\n",
      "peak memory: 994.91 MiB, increment: 0.00 MiB\n"
     ]
    }
   ],
   "source": [
    "%%memit\n",
    "t0 = time.perf_counter()\n",
    "n_dfs = 5\n",
    "test_df = pd.concat([df for i in range(n_dfs)])\n",
    "fname = f'df_{n_dfs}.bz2'\n",
    "test_df.to_csv(fname)\n",
    "print(f\"Output file size = {os.path.getsize(fname) / 1000000:.2f}MB\")\n",
    "print(f\"Save took {time.perf_counter()-t0:.1f}s\")"
   ]
  },
  {
   "cell_type": "code",
   "execution_count": 17,
   "metadata": {},
   "outputs": [
    {
     "name": "stdout",
     "output_type": "stream",
     "text": [
      "Load took 36.1s\n",
      "peak memory: 1545.88 MiB, increment: 612.39 MiB\n"
     ]
    }
   ],
   "source": [
    "%%memit\n",
    "t0 = time.perf_counter()\n",
    "df_in = pd.read_csv(fname)\n",
    "print(f\"Load took {time.perf_counter()-t0:.1f}s\")"
   ]
  },
  {
   "cell_type": "code",
   "execution_count": 18,
   "metadata": {},
   "outputs": [
    {
     "name": "stdout",
     "output_type": "stream",
     "text": [
      "Output file size = 146.94MB\n",
      "Save took 144.8s\n",
      "peak memory: 1983.02 MiB, increment: 967.89 MiB\n"
     ]
    }
   ],
   "source": [
    "%%memit\n",
    "t0 = time.perf_counter()\n",
    "n_dfs = 5\n",
    "test_df = pd.concat([df for i in range(n_dfs)])\n",
    "fname = f'df_{n_dfs}.xlsx'\n",
    "test_df.to_excel(fname)\n",
    "print(f\"Output file size = {os.path.getsize(fname) / 1000000:.2f}MB\")\n",
    "print(f\"Save took {time.perf_counter()-t0:.1f}s\")"
   ]
  },
  {
   "cell_type": "code",
   "execution_count": 19,
   "metadata": {},
   "outputs": [
    {
     "name": "stdout",
     "output_type": "stream",
     "text": [
      "Load took 60.5s\n",
      "peak memory: 1797.19 MiB, increment: 601.13 MiB\n"
     ]
    }
   ],
   "source": [
    "%%memit\n",
    "t0 = time.perf_counter()\n",
    "df_in = pd.read_excel(fname)\n",
    "print(f\"Load took {time.perf_counter()-t0:.1f}s\")"
   ]
  },
  {
   "cell_type": "code",
   "execution_count": null,
   "metadata": {},
   "outputs": [],
   "source": []
  }
 ],
 "metadata": {
  "kernelspec": {
   "display_name": "parquet_pandas_issue",
   "language": "python",
   "name": "parquet_pandas_issue"
  },
  "language_info": {
   "codemirror_mode": {
    "name": "ipython",
    "version": 3
   },
   "file_extension": ".py",
   "mimetype": "text/x-python",
   "name": "python",
   "nbconvert_exporter": "python",
   "pygments_lexer": "ipython3",
   "version": "3.7.4"
  },
  "pycharm": {
   "stem_cell": {
    "cell_type": "raw",
    "metadata": {
     "collapsed": false
    },
    "source": []
   }
  }
 },
 "nbformat": 4,
 "nbformat_minor": 4
}
